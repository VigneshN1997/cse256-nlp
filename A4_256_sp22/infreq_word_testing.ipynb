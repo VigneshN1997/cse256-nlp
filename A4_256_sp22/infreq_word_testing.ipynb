{
 "cells": [
  {
   "cell_type": "code",
   "execution_count": 274,
   "id": "1cb99542-e973-47c3-9a3a-67606fbbb7f7",
   "metadata": {},
   "outputs": [],
   "source": [
    "import matplotlib\n",
    "import matplotlib.pyplot as plt\n",
    "import numpy as np\n",
    "\n",
    "import operator"
   ]
  },
  {
   "cell_type": "code",
   "execution_count": 275,
   "id": "8178a3c1-d32d-4002-b58c-fb325015f682",
   "metadata": {},
   "outputs": [],
   "source": [
    "train_file = \"gene.train\"\n",
    "dev_file = \"gene.key\"\n",
    "train_lines = []\n",
    "with open(train_file) as f:\n",
    "    train_lines = f.readlines()\n",
    "    \n",
    "\n",
    "dev_lines = []\n",
    "with open(dev_file) as f:\n",
    "    dev_lines = f.readlines()"
   ]
  },
  {
   "cell_type": "code",
   "execution_count": 276,
   "id": "2bb0c229-aa81-4cf0-8766-1fdfd6d7d6aa",
   "metadata": {},
   "outputs": [
    {
     "name": "stdout",
     "output_type": "stream",
     "text": [
      "1\n",
      "2 2\n"
     ]
    }
   ],
   "source": [
    "word_tags = {}\n",
    "word_dev_tags = {}\n",
    "\n",
    "line_arr = [train_lines, dev_lines]\n",
    "for i in range(len(line_arr)):\n",
    "    if i == 0:\n",
    "        tags = word_tags\n",
    "    else:\n",
    "        print(i)\n",
    "        tags = word_dev_tags\n",
    "        \n",
    "    for line in line_arr[i]:\n",
    "        items  = line.split()\n",
    "        if not len(items)==2: continue\n",
    "        #print(items)\n",
    "        if items[1] not in tags: \n",
    "            tags[items[1]] =0\n",
    "        tags[items[1]] +=1\n",
    "    \n",
    "print(len(word_tags), len(word_dev_tags))"
   ]
  },
  {
   "cell_type": "code",
   "execution_count": 277,
   "id": "0cc51c88-1e70-49ee-8567-cd9387bb41c1",
   "metadata": {},
   "outputs": [
    {
     "name": "stdout",
     "output_type": "stream",
     "text": [
      "['O', 'I-GENE']\n",
      "[345128, 41072]\n",
      "[13193, 1527]\n"
     ]
    }
   ],
   "source": [
    "labels = []\n",
    "counts_train = []\n",
    "counts_dev = []\n",
    "for tag in word_tags.keys():\n",
    "    labels.append(tag)\n",
    "    \n",
    "for tag in labels:\n",
    "    counts_train.append(word_tags[tag])\n",
    "    counts_dev.append(word_dev_tags[tag])\n",
    "    \n",
    "print(labels)\n",
    "print(counts_train)\n",
    "print(counts_dev)"
   ]
  },
  {
   "cell_type": "code",
   "execution_count": 278,
   "id": "dade6df3-c979-4bd5-9e41-f3c061ebc0cf",
   "metadata": {},
   "outputs": [
    {
     "data": {
      "image/png": "[encoded data removed]",
      "text/plain": [
       "<Figure size 432x288 with 1 Axes>"
      ]
     },
     "metadata": {
      "needs_background": "light"
     },
     "output_type": "display_data"
    }
   ],
   "source": [
    "\n",
    "x = np.arange(len(labels))  # the label locations\n",
    "width = 0.3  # the width of the bars\n",
    "\n",
    "fig, ax = plt.subplots()\n",
    "rects1 = ax.bar(x - width/2, counts_train, width, label='Train')\n",
    "rects2 = ax.bar(x + width/2, counts_dev, width, label='Dev')\n",
    "\n",
    "# Add some text for labels, title and custom x-axis tick labels, etc.\n",
    "ax.set_ylabel('# Words with tag')\n",
    "ax.set_title('Tag counts')\n",
    "ax.set_xticks(x)\n",
    "ax.set_xticklabels(labels)\n",
    "ax.legend()\n",
    "\n",
    "\n",
    "def autolabel(rects):\n",
    "    \"\"\"Attach a text label above each bar in *rects*, displaying its height.\"\"\"\n",
    "    for rect in rects:\n",
    "        height = rect.get_height()\n",
    "        ax.annotate('{}'.format(height),\n",
    "                    xy=(rect.get_x() + rect.get_width() / 2, height),\n",
    "                    xytext=(0, 3),  # 3 points vertical offset\n",
    "                    textcoords=\"offset points\",\n",
    "                    ha='center', va='bottom')\n",
    "\n",
    "\n",
    "autolabel(rects1)\n",
    "\n",
    "fig.tight_layout()\n",
    "\n"
   ]
  },
  {
   "cell_type": "code",
   "execution_count": 279,
   "id": "3ebf3dca-d6eb-4b8b-b096-9142138d618a",
   "metadata": {},
   "outputs": [],
   "source": [
    "counts_file = \"gene.counts\"\n",
    "words = {}\n",
    "ngrams = {1 : {}, 2 : {}, 3 : {}}\n",
    "word_counts = {}\n",
    "for l in open(counts_file):\n",
    "    t = l.strip().split()\n",
    "    count = int(t[0])\n",
    "    key = tuple(t[2:])\n",
    "    if t[1] == \"1-GRAM\": ngrams[1][key[0]] = count\n",
    "    elif t[1] == \"2-GRAM\": ngrams[2][key] = count\n",
    "    elif t[1] == \"3-GRAM\": ngrams[3][key] = count\n",
    "    elif t[1] == \"WORDTAG\":\n",
    "        words[key] = count\n",
    "        word_counts.setdefault(key[1], 0)\n",
    "        word_counts[key[1]] += count"
   ]
  },
  {
   "cell_type": "code",
   "execution_count": 280,
   "id": "866a716c-740c-4ea8-88ed-000084a0e1b2",
   "metadata": {},
   "outputs": [
    {
     "name": "stdout",
     "output_type": "stream",
     "text": [
      "O 345128\n",
      "I-GENE 41072\n"
     ]
    }
   ],
   "source": [
    "i =0\n",
    "for key in ngrams[1]:\n",
    "    print(key, ngrams[1][key])"
   ]
  },
  {
   "cell_type": "code",
   "execution_count": 281,
   "id": "3ed78282-55ed-484c-b3c9-d384475256f1",
   "metadata": {},
   "outputs": [
    {
     "name": "stdout",
     "output_type": "stream",
     "text": [
      "('*', 'O') 13047\n",
      "('*', '*') 13796\n",
      "('O', 'O') 315457\n",
      "('O', 'I-GENE') 15888\n",
      "('I-GENE', 'I-GENE') 24435\n",
      "('I-GENE', 'O') 16624\n",
      "('I-GENE', 'STOP') 13\n",
      "('O', 'STOP') 13783\n",
      "('*', 'I-GENE') 749\n"
     ]
    }
   ],
   "source": [
    "i =0\n",
    "for key in ngrams[2]:\n",
    "    print(key, ngrams[2][key])\n",
    "    i+=1\n",
    "    if i> 20:\n",
    "        break"
   ]
  },
  {
   "cell_type": "code",
   "execution_count": 282,
   "id": "e4508af3-533b-485f-ac30-87966dd59c38",
   "metadata": {},
   "outputs": [
    {
     "name": "stdout",
     "output_type": "stream",
     "text": [
      "('*', '*', 'O') 13047\n",
      "('*', 'O', 'O') 12451\n",
      "('O', 'O', 'I-GENE') 11804\n",
      "('O', 'I-GENE', 'I-GENE') 9181\n",
      "('I-GENE', 'I-GENE', 'O') 9622\n",
      "('I-GENE', 'O', 'I-GENE') 3491\n",
      "('I-GENE', 'I-GENE', 'I-GENE') 14802\n",
      "('I-GENE', 'I-GENE', 'STOP') 11\n",
      "('O', 'O', 'O') 291686\n",
      "('O', 'O', 'STOP') 11967\n",
      "('I-GENE', 'O', 'O') 11320\n",
      "('O', 'I-GENE', 'O') 6706\n",
      "('*', '*', 'I-GENE') 749\n",
      "('*', 'I-GENE', 'I-GENE') 452\n",
      "('I-GENE', 'O', 'STOP') 1813\n",
      "('*', 'I-GENE', 'O') 296\n",
      "('*', 'O', 'I-GENE') 593\n",
      "('*', 'O', 'STOP') 3\n",
      "('*', 'I-GENE', 'STOP') 1\n",
      "('O', 'I-GENE', 'STOP') 1\n"
     ]
    }
   ],
   "source": [
    "i =0\n",
    "for key in ngrams[3]:\n",
    "    print(key, ngrams[3][key])\n",
    "    i+=1\n",
    "    if i> 20:\n",
    "        break"
   ]
  },
  {
   "cell_type": "code",
   "execution_count": 283,
   "id": "bdc87ddc-e8da-40f0-8041-ccf1a39aa279",
   "metadata": {},
   "outputs": [
    {
     "name": "stdout",
     "output_type": "stream",
     "text": [
      "Comparison 40\n",
      "with 3367\n",
      "alkaline 29\n",
      "phosphatases 11\n",
      "and 9980\n",
      "5 981\n",
      "- 13150\n",
      "_RARE_ 13471\n",
      "_ic_ 1311\n",
      "aspects 16\n",
      "of 14771\n",
      "neonatal 11\n",
      "hyperbilirubinemia 5\n",
      ". 15509\n",
      "When 63\n",
      "CSF 65\n",
      "[ 136\n",
      "HCO3 7\n",
      "is 2348\n",
      "shown 174\n",
      "as 1263\n"
     ]
    }
   ],
   "source": [
    "i =0\n",
    "for key in word_counts:\n",
    "    print(key, word_counts[key])\n",
    "    i+=1\n",
    "    if i> 20:\n",
    "        break"
   ]
  },
  {
   "cell_type": "code",
   "execution_count": 284,
   "id": "ee55f49d-e442-4d85-945b-3b499f93f879",
   "metadata": {},
   "outputs": [],
   "source": [
    "from count_freqs import *"
   ]
  },
  {
   "cell_type": "code",
   "execution_count": 285,
   "id": "6d07d97e-8b3a-4135-9ab8-0acf4f888548",
   "metadata": {},
   "outputs": [],
   "source": [
    "inp = open(train_file,\"r\")\n",
    "sentence_itr = sentence_iterator(simple_conll_corpus_iterator(inp))"
   ]
  },
  {
   "cell_type": "code",
   "execution_count": 286,
   "id": "9f147c6c-133e-4bb8-a1de-cf94e20568e0",
   "metadata": {},
   "outputs": [],
   "source": [
    "word_freqs = {}\n",
    "for sent in sentence_itr:\n",
    "    for word, _ in sent:\n",
    "        if word not in word_freqs:\n",
    "            word_freqs[word] = 0\n",
    "        word_freqs[word] += 1"
   ]
  },
  {
   "cell_type": "code",
   "execution_count": 287,
   "id": "f1257adb-fb38-49b5-8ba5-6bd3d75f24ed",
   "metadata": {},
   "outputs": [],
   "source": [
    "rare_cutoff = 5\n",
    "rare_words = {}\n",
    "for w in word_freqs:\n",
    "    if word_freqs[w] < rare_cutoff:\n",
    "        rare_words[w] = word_freqs[w]"
   ]
  },
  {
   "cell_type": "code",
   "execution_count": 288,
   "id": "5aaf4a49-f961-4a97-8f4b-11165ec0a2aa",
   "metadata": {
    "tags": []
   },
   "outputs": [
    {
     "name": "stdout",
     "output_type": "stream",
     "text": [
      "4788\n",
      "5941\n",
      "777\n"
     ]
    }
   ],
   "source": [
    "pn = 0\n",
    "abbr = 0\n",
    "num = 0\n",
    "for w in rare_words:\n",
    "    if w.isupper():\n",
    "        abbr += 1\n",
    "    elif w[0].isupper():\n",
    "        pn += 1\n",
    "    elif w.isdecimal():\n",
    "        num += 1\n",
    "\n",
    "print(abbr)\n",
    "print(pn)\n",
    "print(num)"
   ]
  },
  {
   "cell_type": "code",
   "execution_count": 331,
   "id": "070c7347-f7b4-4287-ac21-52edb6e69d19",
   "metadata": {},
   "outputs": [],
   "source": [
    "common_3suffixes = {}\n",
    "common_2suffixes = {}\n",
    "for w in rare_words:\n",
    "    if len(w) >= 3:\n",
    "        suffix2 = w[-2:]\n",
    "        suffix3 = w[-3:]\n",
    "        if suffix2 not in common_2suffixes:\n",
    "            common_2suffixes[suffix2] = 0\n",
    "        if suffix3 not in common_3suffixes:\n",
    "            common_3suffixes[suffix3] = 0\n",
    "        common_2suffixes[suffix2] += 1\n",
    "        common_3suffixes[suffix3] += 1\n",
    "\n",
    "three_suffixes = common_3suffixes.keys()\n",
    "delete_suf = []\n",
    "for suffix in three_suffixes:\n",
    "    if common_3suffixes[suffix] < 30:\n",
    "        delete_suf.append(suffix)\n",
    "for suf in delete_suf:\n",
    "    del common_3suffixes[suf]\n",
    "\n",
    "three_suffixes = common_3suffixes.keys()\n",
    "two_in_three_suff = set([x[-2:] for x in three_suffixes])\n",
    "delete_suff = []\n",
    "for s in common_2suffixes:\n",
    "    if s in two_in_three_suff:\n",
    "        delete_suff.append(s)\n",
    "\n",
    "for suf in common_2suffixes:\n",
    "    if common_2suffixes[suf] < 30 and suf not in delete_suff:\n",
    "        delete_suff.append(suf)\n",
    "# print(delete_suff)\n",
    "for suf in delete_suff:\n",
    "    del common_2suffixes[suf]\n"
   ]
  },
  {
   "cell_type": "code",
   "execution_count": 332,
   "id": "30bfeb67-3179-4c9e-a10f-10431164d43f",
   "metadata": {},
   "outputs": [],
   "source": [
    "suffixes_dict = {}\n",
    "for s in common_2suffixes:\n",
    "    suffixes_dict[s] = True\n",
    "for s in common_3suffixes:\n",
    "    suffixes_dict[s] = True"
   ]
  },
  {
   "cell_type": "code",
   "execution_count": 333,
   "id": "e49b87e5-52e9-4f06-9745-760f48e22f81",
   "metadata": {},
   "outputs": [
    {
     "data": {
      "text/plain": [
       "157"
      ]
     },
     "execution_count": 333,
     "metadata": {},
     "output_type": "execute_result"
    }
   ],
   "source": [
    "len(suffixes_dict)"
   ]
  },
  {
   "cell_type": "code",
   "execution_count": 334,
   "id": "fe2c0602-0ea1-4a57-a739-41f6ada7357b",
   "metadata": {},
   "outputs": [],
   "source": [
    "rare_words_file = \"rare_words.txt\"\n",
    "with open(rare_words_file, \"w\") as wf:\n",
    "    for suffix in suffixes_dict:\n",
    "        wf.writelines(suffix + \"\\n\")\n"
   ]
  },
  {
   "cell_type": "code",
   "execution_count": 335,
   "id": "c3ca607d-f74e-4457-a527-4a2ff35c2594",
   "metadata": {},
   "outputs": [],
   "source": [
    "rare_words_file = \"rare_words.txt\"\n",
    "suffixes_read = {}\n",
    "with open(rare_words_file, \"r\") as rf:\n",
    "    lines = rf.readlines()\n",
    "    for l in lines:\n",
    "        suffixes_read[l[:-1]] = True"
   ]
  },
  {
   "cell_type": "code",
   "execution_count": 336,
   "id": "97f16316-2c02-4f53-b882-522983c2f6f2",
   "metadata": {},
   "outputs": [
    {
     "data": {
      "text/plain": [
       "157"
      ]
     },
     "execution_count": 336,
     "metadata": {},
     "output_type": "execute_result"
    }
   ],
   "source": [
    "len(suffixes_read)"
   ]
  },
  {
   "cell_type": "code",
   "execution_count": null,
   "id": "d53460bf-a103-4981-b047-46524df4076c",
   "metadata": {},
   "outputs": [],
   "source": []
  }
 ],
 "metadata": {
  "kernelspec": {
   "display_name": "Python 3 (ipykernel)",
   "language": "python",
   "name": "python3"
  },
  "language_info": {
   "codemirror_mode": {
    "name": "ipython",
    "version": 3
   },
   "file_extension": ".py",
   "mimetype": "text/x-python",
   "name": "python",
   "nbconvert_exporter": "python",
   "pygments_lexer": "ipython3",
   "version": "3.9.10"
  }
 },
 "nbformat": 4,
 "nbformat_minor": 5
}
